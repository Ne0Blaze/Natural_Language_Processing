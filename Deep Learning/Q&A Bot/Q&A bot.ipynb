{
 "cells": [
  {
   "cell_type": "code",
   "execution_count": 1,
   "id": "388c3e8a",
   "metadata": {},
   "outputs": [],
   "source": [
    "import pickle\n",
    "import numpy as np"
   ]
  },
  {
   "cell_type": "code",
   "execution_count": 2,
   "id": "e22c77f0",
   "metadata": {},
   "outputs": [],
   "source": [
    "with open('../UPDATED_NLP_COURSE/06-Deep-Learning/train_qa.txt','rb') as f:\n",
    "    train_data=pickle.load(f)"
   ]
  },
  {
   "cell_type": "code",
   "execution_count": 3,
   "id": "868b629a",
   "metadata": {},
   "outputs": [],
   "source": [
    "with open('../UPDATED_NLP_COURSE/06-Deep-Learning/test_qa.txt','rb') as f:\n",
    "    test_data=pickle.load(f)"
   ]
  },
  {
   "cell_type": "code",
   "execution_count": 4,
   "id": "cb000e1e",
   "metadata": {},
   "outputs": [
    {
     "data": {
      "text/plain": [
       "list"
      ]
     },
     "execution_count": 4,
     "metadata": {},
     "output_type": "execute_result"
    }
   ],
   "source": [
    "type(train_data)"
   ]
  },
  {
   "cell_type": "code",
   "execution_count": 5,
   "id": "69fcf170",
   "metadata": {},
   "outputs": [
    {
     "data": {
      "text/plain": [
       "list"
      ]
     },
     "execution_count": 5,
     "metadata": {},
     "output_type": "execute_result"
    }
   ],
   "source": [
    "type(test_data)"
   ]
  },
  {
   "cell_type": "code",
   "execution_count": 6,
   "id": "588c753a",
   "metadata": {},
   "outputs": [
    {
     "data": {
      "text/plain": [
       "10000"
      ]
     },
     "execution_count": 6,
     "metadata": {},
     "output_type": "execute_result"
    }
   ],
   "source": [
    "len(train_data)"
   ]
  },
  {
   "cell_type": "code",
   "execution_count": 7,
   "id": "5565ef8b",
   "metadata": {},
   "outputs": [
    {
     "data": {
      "text/plain": [
       "1000"
      ]
     },
     "execution_count": 7,
     "metadata": {},
     "output_type": "execute_result"
    }
   ],
   "source": [
    "len(test_data)"
   ]
  },
  {
   "cell_type": "code",
   "execution_count": 8,
   "id": "9a08dcc9",
   "metadata": {},
   "outputs": [
    {
     "data": {
      "text/plain": [
       "'Mary moved to the bathroom . Sandra journeyed to the bedroom .'"
      ]
     },
     "execution_count": 8,
     "metadata": {},
     "output_type": "execute_result"
    }
   ],
   "source": [
    "' '.join(train_data[0][0])"
   ]
  },
  {
   "cell_type": "code",
   "execution_count": 9,
   "id": "0cdb5d16",
   "metadata": {},
   "outputs": [
    {
     "data": {
      "text/plain": [
       "'Is Sandra in the hallway ?'"
      ]
     },
     "execution_count": 9,
     "metadata": {},
     "output_type": "execute_result"
    }
   ],
   "source": [
    "' '.join(train_data[0][1])"
   ]
  },
  {
   "cell_type": "code",
   "execution_count": 10,
   "id": "c37385f7",
   "metadata": {},
   "outputs": [
    {
     "data": {
      "text/plain": [
       "'n o'"
      ]
     },
     "execution_count": 10,
     "metadata": {},
     "output_type": "execute_result"
    }
   ],
   "source": [
    "' '.join(train_data[0][2])"
   ]
  },
  {
   "cell_type": "code",
   "execution_count": 11,
   "id": "4b809f96",
   "metadata": {},
   "outputs": [],
   "source": [
    "all_data=train_data+test_data"
   ]
  },
  {
   "cell_type": "code",
   "execution_count": 12,
   "id": "85304862",
   "metadata": {},
   "outputs": [
    {
     "data": {
      "text/plain": [
       "11000"
      ]
     },
     "execution_count": 12,
     "metadata": {},
     "output_type": "execute_result"
    }
   ],
   "source": [
    "len(all_data)"
   ]
  },
  {
   "cell_type": "code",
   "execution_count": 13,
   "id": "d1a8f631",
   "metadata": {},
   "outputs": [],
   "source": [
    "vocab=set()\n",
    "for story,question,answer in all_data:\n",
    "    vocab=vocab.union(set(story))\n",
    "    vocab=vocab.union(set(question))"
   ]
  },
  {
   "cell_type": "code",
   "execution_count": 14,
   "id": "ef431285",
   "metadata": {},
   "outputs": [],
   "source": [
    "#adding 2 possible answers\n",
    "vocab.add('yes')\n",
    "vocab.add('no')"
   ]
  },
  {
   "cell_type": "code",
   "execution_count": 15,
   "id": "748ac533",
   "metadata": {},
   "outputs": [],
   "source": [
    "#total len +1 since we need a placeholder for keras paddin\n",
    "vocab_len= len(vocab)+1"
   ]
  },
  {
   "cell_type": "code",
   "execution_count": 16,
   "id": "399bfb03",
   "metadata": {},
   "outputs": [
    {
     "data": {
      "text/plain": [
       "38"
      ]
     },
     "execution_count": 16,
     "metadata": {},
     "output_type": "execute_result"
    }
   ],
   "source": [
    "vocab_len"
   ]
  },
  {
   "cell_type": "code",
   "execution_count": 17,
   "id": "0c668842",
   "metadata": {},
   "outputs": [],
   "source": [
    "#longest story\n",
    "all_story_len=[len(data[0]) for data in all_data]"
   ]
  },
  {
   "cell_type": "code",
   "execution_count": 18,
   "id": "2d44e593",
   "metadata": {},
   "outputs": [],
   "source": [
    "#we need max story len for padding sequences\n",
    "max_story_len=max(all_story_len)"
   ]
  },
  {
   "cell_type": "code",
   "execution_count": 19,
   "id": "a091de5a",
   "metadata": {},
   "outputs": [],
   "source": [
    "#same for the questions \n",
    "max_question_len=max([len(data[1]) for data in all_data])"
   ]
  },
  {
   "cell_type": "code",
   "execution_count": 20,
   "id": "43cc1790",
   "metadata": {},
   "outputs": [
    {
     "data": {
      "text/plain": [
       "6"
      ]
     },
     "execution_count": 20,
     "metadata": {},
     "output_type": "execute_result"
    }
   ],
   "source": [
    "max_question_len"
   ]
  },
  {
   "cell_type": "code",
   "execution_count": 21,
   "id": "8cb36c32",
   "metadata": {},
   "outputs": [],
   "source": [
    "from keras.preprocessing.sequence import pad_sequences\n",
    "from keras.preprocessing.text import Tokenizer"
   ]
  },
  {
   "cell_type": "code",
   "execution_count": 22,
   "id": "7cc6f53f",
   "metadata": {},
   "outputs": [],
   "source": [
    "tokenizer=Tokenizer(filters=[])"
   ]
  },
  {
   "cell_type": "code",
   "execution_count": 23,
   "id": "901db8e2",
   "metadata": {},
   "outputs": [],
   "source": [
    "tokenizer.fit_on_texts(vocab)"
   ]
  },
  {
   "cell_type": "code",
   "execution_count": 24,
   "id": "fee8b3ff",
   "metadata": {},
   "outputs": [
    {
     "data": {
      "text/plain": [
       "{'up': 1,\n",
       " 'dropped': 2,\n",
       " 'football': 3,\n",
       " 'milk': 4,\n",
       " 'there': 5,\n",
       " 'no': 6,\n",
       " 'hallway': 7,\n",
       " 'grabbed': 8,\n",
       " 'apple': 9,\n",
       " 'office': 10,\n",
       " 'is': 11,\n",
       " '.': 12,\n",
       " 'mary': 13,\n",
       " 'got': 14,\n",
       " 'john': 15,\n",
       " 'down': 16,\n",
       " 'went': 17,\n",
       " 'sandra': 18,\n",
       " 'bathroom': 19,\n",
       " 'travelled': 20,\n",
       " 'picked': 21,\n",
       " 'took': 22,\n",
       " 'the': 23,\n",
       " 'yes': 24,\n",
       " 'discarded': 25,\n",
       " 'garden': 26,\n",
       " 'back': 27,\n",
       " 'in': 28,\n",
       " '?': 29,\n",
       " 'journeyed': 30,\n",
       " 'to': 31,\n",
       " 'put': 32,\n",
       " 'moved': 33,\n",
       " 'kitchen': 34,\n",
       " 'left': 35,\n",
       " 'daniel': 36,\n",
       " 'bedroom': 37}"
      ]
     },
     "execution_count": 24,
     "metadata": {},
     "output_type": "execute_result"
    }
   ],
   "source": [
    "tokenizer.word_index"
   ]
  },
  {
   "cell_type": "code",
   "execution_count": 25,
   "id": "410d265b",
   "metadata": {},
   "outputs": [],
   "source": [
    "train_story_text=[]\n",
    "train_question_text=[]\n",
    "train_answer=[]\n",
    "\n",
    "for story,question,answer in train_data:\n",
    "    train_story_text.append(story)\n",
    "    train_question_text.append(question)\n",
    "    train_answer.append(answer)"
   ]
  },
  {
   "cell_type": "code",
   "execution_count": 26,
   "id": "7762bf77",
   "metadata": {},
   "outputs": [],
   "source": [
    "#train_story_text"
   ]
  },
  {
   "cell_type": "code",
   "execution_count": 27,
   "id": "e35866e0",
   "metadata": {},
   "outputs": [],
   "source": [
    "#coverting sentances/stories to index seq\n",
    "train_story_seq=tokenizer.texts_to_sequences(train_story_text)"
   ]
  },
  {
   "cell_type": "code",
   "execution_count": 28,
   "id": "baad12dd",
   "metadata": {},
   "outputs": [],
   "source": [
    "def vectorize_stories(data,word_index=tokenizer.word_index,max_story_len=max_story_len,max_question_len=max_question_len):\n",
    "    #stories\n",
    "    X=[]\n",
    "    #questions\n",
    "    Xq=[]\n",
    "    #answers\n",
    "    Y=[]\n",
    "    \n",
    "    for story,question,answer in data:\n",
    "        #for each story\n",
    "        x=[word_index[word.lower()] for word in story]\n",
    "        xq=[word_index[word.lower()] for word in question]\n",
    "        \n",
    "        y=np.zeros(len(word_index)+1)\n",
    "        y[word_index[answer]]=1\n",
    "        \n",
    "        X.append(x)\n",
    "        Xq.append(xq)\n",
    "        Y.append(y)\n",
    "        \n",
    "        \n",
    "    return (pad_sequences(X,maxlen=max_story_len),pad_sequences(Xq,maxlen=max_question_len),pad_sequences(Y))"
   ]
  },
  {
   "cell_type": "code",
   "execution_count": 29,
   "id": "94cd19a7",
   "metadata": {},
   "outputs": [],
   "source": [
    "inputs_train,questions_train,answers_train =vectorize_stories(train_data)"
   ]
  },
  {
   "cell_type": "code",
   "execution_count": 30,
   "id": "a8dc42fa",
   "metadata": {},
   "outputs": [],
   "source": [
    "inputs_test,questions_test,answers_test =vectorize_stories(test_data)"
   ]
  },
  {
   "cell_type": "code",
   "execution_count": 31,
   "id": "dd1345fe",
   "metadata": {},
   "outputs": [
    {
     "data": {
      "text/plain": [
       "24"
      ]
     },
     "execution_count": 31,
     "metadata": {},
     "output_type": "execute_result"
    }
   ],
   "source": [
    "tokenizer.word_index['yes']"
   ]
  },
  {
   "cell_type": "code",
   "execution_count": 32,
   "id": "4ca53a47",
   "metadata": {},
   "outputs": [
    {
     "data": {
      "text/plain": [
       "6"
      ]
     },
     "execution_count": 32,
     "metadata": {},
     "output_type": "execute_result"
    }
   ],
   "source": [
    "tokenizer.word_index['no']"
   ]
  },
  {
   "cell_type": "code",
   "execution_count": 33,
   "id": "4013de5e",
   "metadata": {},
   "outputs": [
    {
     "data": {
      "text/plain": [
       "array([   0,    0,    0,    0,    0,    0, 4988,    0,    0,    0,    0,\n",
       "          0,    0,    0,    0,    0,    0,    0,    0,    0,    0,    0,\n",
       "          0,    0, 5012,    0,    0,    0,    0,    0,    0,    0,    0,\n",
       "          0,    0,    0,    0,    0])"
      ]
     },
     "execution_count": 33,
     "metadata": {},
     "output_type": "execute_result"
    }
   ],
   "source": [
    "sum(answers_train)"
   ]
  },
  {
   "cell_type": "code",
   "execution_count": 35,
   "id": "edda6ab0",
   "metadata": {},
   "outputs": [],
   "source": [
    "from pickle import load,dump\n",
    "dump(tokenizer,open('Q&A bot','wb'))"
   ]
  },
  {
   "cell_type": "code",
   "execution_count": 44,
   "id": "8bd47082",
   "metadata": {},
   "outputs": [],
   "source": [
    "#building the neural network from here\n",
    "from tensorflow.keras.models import Sequential,Model\n",
    "from keras.layers.embeddings import Embedding\n",
    "from keras.layers import Input,Activation,Dense,Permute,Dropout,add,dot,concatenate,LSTM"
   ]
  },
  {
   "cell_type": "code",
   "execution_count": 45,
   "id": "7b3115e5",
   "metadata": {},
   "outputs": [],
   "source": [
    "#placeholder input(shape(max_story_len,batch_size))   \n",
    "#((we leave batch size empty so we can define and modify it later ))\n",
    "input_sequence=Input((max_story_len,))\n",
    "question=Input((max_question_len,))\n"
   ]
  },
  {
   "cell_type": "code",
   "execution_count": 46,
   "id": "61af36cc",
   "metadata": {},
   "outputs": [],
   "source": [
    "#input encoder m\n",
    "input_encoder_m=Sequential()\n",
    "input_encoder_m.add(Embedding(input_dim=vocab_len,output_dim=64))\n",
    "input_encoder_m.add(Dropout(0.3))\n",
    "\n",
    "#output\n",
    "#(samples,story_maxlen,embedding_dim)"
   ]
  },
  {
   "cell_type": "code",
   "execution_count": 47,
   "id": "5e3a178e",
   "metadata": {},
   "outputs": [],
   "source": [
    "#input encoder c\n",
    "input_encoder_c=Sequential()\n",
    "input_encoder_c.add(Embedding(input_dim=vocab_len,output_dim=max_question_len))\n",
    "input_encoder_c.add(Dropout(0.3))\n",
    "\n",
    "#output\n",
    "#(samples,story_maxlen,max_question_len)"
   ]
  },
  {
   "cell_type": "code",
   "execution_count": 48,
   "id": "cbc4e0fa",
   "metadata": {},
   "outputs": [],
   "source": [
    "#question encoder \n",
    "question_encoder=Sequential()\n",
    "question_encoder.add(Embedding(input_dim=vocab_len,output_dim=64,input_length=max_question_len))\n",
    "question_encoder.add(Dropout(0.3))\n",
    "\n",
    "#output\n",
    "#(samples,question_maxlen,embedding_dim)"
   ]
  },
  {
   "cell_type": "code",
   "execution_count": 49,
   "id": "a6807735",
   "metadata": {},
   "outputs": [],
   "source": [
    "#encoded<--- encoder(input)\n",
    "input_encoded_m=input_encoder_m(input_sequence)\n",
    "input_encoded_c=input_encoder_c(input_sequence)\n",
    "question_encoded=question_encoder(question)"
   ]
  },
  {
   "cell_type": "code",
   "execution_count": 50,
   "id": "0f503605",
   "metadata": {},
   "outputs": [],
   "source": [
    "match= dot([input_encoded_m,question_encoded],axes=(2,2))\n",
    "match= Activation('softmax')(match)"
   ]
  },
  {
   "cell_type": "code",
   "execution_count": 51,
   "id": "35246abc",
   "metadata": {},
   "outputs": [],
   "source": [
    "response=add([match,input_encoded_c])\n",
    "response =Permute((2,1))(response)"
   ]
  },
  {
   "cell_type": "code",
   "execution_count": 52,
   "id": "586ea608",
   "metadata": {},
   "outputs": [],
   "source": [
    "answer= concatenate([response,question_encoded])"
   ]
  },
  {
   "cell_type": "code",
   "execution_count": 53,
   "id": "64771e12",
   "metadata": {},
   "outputs": [
    {
     "data": {
      "text/plain": [
       "<KerasTensor: shape=(None, 6, 220) dtype=float32 (created by layer 'concatenate')>"
      ]
     },
     "execution_count": 53,
     "metadata": {},
     "output_type": "execute_result"
    }
   ],
   "source": [
    "answer"
   ]
  },
  {
   "cell_type": "code",
   "execution_count": 54,
   "id": "6d0c39a3",
   "metadata": {},
   "outputs": [],
   "source": [
    "answer=LSTM(32)(answer)\n",
    "answer=Dropout(0.5)(answer)\n",
    "answer=Dense(vocab_len)(answer)"
   ]
  },
  {
   "cell_type": "code",
   "execution_count": 55,
   "id": "c1b27b36",
   "metadata": {},
   "outputs": [],
   "source": [
    "answer =Activation('softmax')(answer)"
   ]
  },
  {
   "cell_type": "code",
   "execution_count": 57,
   "id": "cd3a6396",
   "metadata": {},
   "outputs": [],
   "source": [
    "model=Model([input_sequence,question],answer)\n",
    "model.compile(optimizer='rmsprop',loss='categorical_crossentropy',metrics=['accuracy'])"
   ]
  },
  {
   "cell_type": "code",
   "execution_count": 59,
   "id": "0f70a5c5",
   "metadata": {},
   "outputs": [
    {
     "name": "stdout",
     "output_type": "stream",
     "text": [
      "Model: \"model_1\"\n",
      "__________________________________________________________________________________________________\n",
      " Layer (type)                   Output Shape         Param #     Connected to                     \n",
      "==================================================================================================\n",
      " input_1 (InputLayer)           [(None, 156)]        0           []                               \n",
      "                                                                                                  \n",
      " input_2 (InputLayer)           [(None, 6)]          0           []                               \n",
      "                                                                                                  \n",
      " sequential (Sequential)        (None, None, 64)     2432        ['input_1[0][0]']                \n",
      "                                                                                                  \n",
      " sequential_2 (Sequential)      (None, 6, 64)        2432        ['input_2[0][0]']                \n",
      "                                                                                                  \n",
      " dot (Dot)                      (None, 156, 6)       0           ['sequential[0][0]',             \n",
      "                                                                  'sequential_2[0][0]']           \n",
      "                                                                                                  \n",
      " activation (Activation)        (None, 156, 6)       0           ['dot[0][0]']                    \n",
      "                                                                                                  \n",
      " sequential_1 (Sequential)      (None, None, 6)      228         ['input_1[0][0]']                \n",
      "                                                                                                  \n",
      " add (Add)                      (None, 156, 6)       0           ['activation[0][0]',             \n",
      "                                                                  'sequential_1[0][0]']           \n",
      "                                                                                                  \n",
      " permute (Permute)              (None, 6, 156)       0           ['add[0][0]']                    \n",
      "                                                                                                  \n",
      " concatenate (Concatenate)      (None, 6, 220)       0           ['permute[0][0]',                \n",
      "                                                                  'sequential_2[0][0]']           \n",
      "                                                                                                  \n",
      " lstm (LSTM)                    (None, 32)           32384       ['concatenate[0][0]']            \n",
      "                                                                                                  \n",
      " dropout_3 (Dropout)            (None, 32)           0           ['lstm[0][0]']                   \n",
      "                                                                                                  \n",
      " dense (Dense)                  (None, 38)           1254        ['dropout_3[0][0]']              \n",
      "                                                                                                  \n",
      " activation_1 (Activation)      (None, 38)           0           ['dense[0][0]']                  \n",
      "                                                                                                  \n",
      "==================================================================================================\n",
      "Total params: 38,730\n",
      "Trainable params: 38,730\n",
      "Non-trainable params: 0\n",
      "__________________________________________________________________________________________________\n"
     ]
    }
   ],
   "source": [
    "model.summary()"
   ]
  },
  {
   "cell_type": "code",
   "execution_count": 61,
   "id": "5e57ea6f",
   "metadata": {},
   "outputs": [
    {
     "name": "stdout",
     "output_type": "stream",
     "text": [
      "Epoch 1/100\n",
      "313/313 [==============================] - 5s 10ms/step - loss: 0.9741 - accuracy: 0.4966 - val_loss: 0.6962 - val_accuracy: 0.5030\n",
      "Epoch 2/100\n",
      "313/313 [==============================] - 3s 11ms/step - loss: 0.7088 - accuracy: 0.4997 - val_loss: 0.6934 - val_accuracy: 0.4970\n",
      "Epoch 3/100\n",
      "313/313 [==============================] - 3s 10ms/step - loss: 0.6966 - accuracy: 0.4929 - val_loss: 0.6932 - val_accuracy: 0.4970\n",
      "Epoch 4/100\n",
      "313/313 [==============================] - 3s 10ms/step - loss: 0.6948 - accuracy: 0.5076 - val_loss: 0.6935 - val_accuracy: 0.4970\n",
      "Epoch 5/100\n",
      "313/313 [==============================] - 3s 11ms/step - loss: 0.6950 - accuracy: 0.4936 - val_loss: 0.6952 - val_accuracy: 0.5030\n",
      "Epoch 6/100\n",
      "313/313 [==============================] - 3s 11ms/step - loss: 0.6946 - accuracy: 0.4990 - val_loss: 0.6964 - val_accuracy: 0.4970\n",
      "Epoch 7/100\n",
      "313/313 [==============================] - 4s 11ms/step - loss: 0.6949 - accuracy: 0.4941 - val_loss: 0.6933 - val_accuracy: 0.4970\n",
      "Epoch 8/100\n",
      "313/313 [==============================] - 3s 10ms/step - loss: 0.6942 - accuracy: 0.5071 - val_loss: 0.6935 - val_accuracy: 0.4970\n",
      "Epoch 9/100\n",
      "313/313 [==============================] - 3s 10ms/step - loss: 0.6942 - accuracy: 0.5024 - val_loss: 0.6933 - val_accuracy: 0.5030\n",
      "Epoch 10/100\n",
      "313/313 [==============================] - 3s 10ms/step - loss: 0.6942 - accuracy: 0.5051 - val_loss: 0.6939 - val_accuracy: 0.4970\n",
      "Epoch 11/100\n",
      "313/313 [==============================] - 3s 11ms/step - loss: 0.6947 - accuracy: 0.4908 - val_loss: 0.6943 - val_accuracy: 0.4810\n",
      "Epoch 12/100\n",
      "313/313 [==============================] - 3s 10ms/step - loss: 0.6935 - accuracy: 0.5083 - val_loss: 0.6945 - val_accuracy: 0.4820\n",
      "Epoch 13/100\n",
      "313/313 [==============================] - 3s 10ms/step - loss: 0.6932 - accuracy: 0.5108 - val_loss: 0.6942 - val_accuracy: 0.5010\n",
      "Epoch 14/100\n",
      "313/313 [==============================] - 3s 10ms/step - loss: 0.6915 - accuracy: 0.5116 - val_loss: 0.6928 - val_accuracy: 0.4940\n",
      "Epoch 15/100\n",
      "313/313 [==============================] - 3s 10ms/step - loss: 0.6867 - accuracy: 0.5307 - val_loss: 0.6892 - val_accuracy: 0.4850\n",
      "Epoch 16/100\n",
      "313/313 [==============================] - 3s 10ms/step - loss: 0.6749 - accuracy: 0.5694 - val_loss: 0.6687 - val_accuracy: 0.6080\n",
      "Epoch 17/100\n",
      "313/313 [==============================] - 3s 10ms/step - loss: 0.6509 - accuracy: 0.6190 - val_loss: 0.6349 - val_accuracy: 0.6630\n",
      "Epoch 18/100\n",
      "313/313 [==============================] - 3s 10ms/step - loss: 0.6236 - accuracy: 0.6557 - val_loss: 0.5937 - val_accuracy: 0.6980\n",
      "Epoch 19/100\n",
      "313/313 [==============================] - 3s 10ms/step - loss: 0.5932 - accuracy: 0.6908 - val_loss: 0.5427 - val_accuracy: 0.7120\n",
      "Epoch 20/100\n",
      "313/313 [==============================] - 3s 10ms/step - loss: 0.5633 - accuracy: 0.7177 - val_loss: 0.5135 - val_accuracy: 0.7460\n",
      "Epoch 21/100\n",
      "313/313 [==============================] - 3s 11ms/step - loss: 0.5369 - accuracy: 0.7353 - val_loss: 0.4829 - val_accuracy: 0.7740\n",
      "Epoch 22/100\n",
      "313/313 [==============================] - 3s 10ms/step - loss: 0.5070 - accuracy: 0.7615 - val_loss: 0.4738 - val_accuracy: 0.7910\n",
      "Epoch 23/100\n",
      "313/313 [==============================] - 3s 10ms/step - loss: 0.4777 - accuracy: 0.7777 - val_loss: 0.4432 - val_accuracy: 0.8000\n",
      "Epoch 24/100\n",
      "313/313 [==============================] - 3s 10ms/step - loss: 0.4544 - accuracy: 0.7968 - val_loss: 0.4367 - val_accuracy: 0.8140\n",
      "Epoch 25/100\n",
      "313/313 [==============================] - 3s 11ms/step - loss: 0.4333 - accuracy: 0.8102 - val_loss: 0.4164 - val_accuracy: 0.8200\n",
      "Epoch 26/100\n",
      "313/313 [==============================] - 3s 10ms/step - loss: 0.4210 - accuracy: 0.8162 - val_loss: 0.3941 - val_accuracy: 0.8230\n",
      "Epoch 27/100\n",
      "313/313 [==============================] - 3s 10ms/step - loss: 0.4163 - accuracy: 0.8161 - val_loss: 0.4083 - val_accuracy: 0.8220\n",
      "Epoch 28/100\n",
      "313/313 [==============================] - 3s 10ms/step - loss: 0.3907 - accuracy: 0.8367 - val_loss: 0.3815 - val_accuracy: 0.8350\n",
      "Epoch 29/100\n",
      "313/313 [==============================] - 3s 11ms/step - loss: 0.3851 - accuracy: 0.8327 - val_loss: 0.3781 - val_accuracy: 0.8340\n",
      "Epoch 30/100\n",
      "313/313 [==============================] - 3s 10ms/step - loss: 0.3776 - accuracy: 0.8396 - val_loss: 0.3823 - val_accuracy: 0.8290\n",
      "Epoch 31/100\n",
      "313/313 [==============================] - 3s 10ms/step - loss: 0.3744 - accuracy: 0.8402 - val_loss: 0.3777 - val_accuracy: 0.8300\n",
      "Epoch 32/100\n",
      "313/313 [==============================] - 3s 10ms/step - loss: 0.3689 - accuracy: 0.8437 - val_loss: 0.3758 - val_accuracy: 0.8340\n",
      "Epoch 33/100\n",
      "313/313 [==============================] - 3s 11ms/step - loss: 0.3641 - accuracy: 0.8481 - val_loss: 0.3655 - val_accuracy: 0.8370\n",
      "Epoch 34/100\n",
      "313/313 [==============================] - 3s 11ms/step - loss: 0.3546 - accuracy: 0.8478 - val_loss: 0.3631 - val_accuracy: 0.8320\n",
      "Epoch 35/100\n",
      "313/313 [==============================] - 3s 10ms/step - loss: 0.3545 - accuracy: 0.8517 - val_loss: 0.3634 - val_accuracy: 0.8300\n",
      "Epoch 36/100\n",
      "313/313 [==============================] - 3s 10ms/step - loss: 0.3464 - accuracy: 0.8598 - val_loss: 0.3679 - val_accuracy: 0.8320\n",
      "Epoch 37/100\n",
      "313/313 [==============================] - 3s 10ms/step - loss: 0.3417 - accuracy: 0.8555 - val_loss: 0.4115 - val_accuracy: 0.7950\n",
      "Epoch 38/100\n",
      "313/313 [==============================] - 3s 11ms/step - loss: 0.3353 - accuracy: 0.8579 - val_loss: 0.3734 - val_accuracy: 0.8300\n",
      "Epoch 39/100\n",
      "313/313 [==============================] - 3s 11ms/step - loss: 0.3436 - accuracy: 0.8584 - val_loss: 0.3726 - val_accuracy: 0.8250\n",
      "Epoch 40/100\n",
      "313/313 [==============================] - 4s 11ms/step - loss: 0.3370 - accuracy: 0.8576 - val_loss: 0.3631 - val_accuracy: 0.8370\n",
      "Epoch 41/100\n",
      "313/313 [==============================] - 3s 11ms/step - loss: 0.3355 - accuracy: 0.8563 - val_loss: 0.3829 - val_accuracy: 0.8260\n",
      "Epoch 42/100\n",
      "313/313 [==============================] - 3s 10ms/step - loss: 0.3244 - accuracy: 0.8646 - val_loss: 0.3573 - val_accuracy: 0.8300\n",
      "Epoch 43/100\n",
      "313/313 [==============================] - 3s 10ms/step - loss: 0.3247 - accuracy: 0.8601 - val_loss: 0.3586 - val_accuracy: 0.8300\n",
      "Epoch 44/100\n",
      "313/313 [==============================] - 3s 10ms/step - loss: 0.3252 - accuracy: 0.8592 - val_loss: 0.3725 - val_accuracy: 0.8270\n",
      "Epoch 45/100\n",
      "313/313 [==============================] - 3s 11ms/step - loss: 0.3249 - accuracy: 0.8627 - val_loss: 0.3929 - val_accuracy: 0.8230\n",
      "Epoch 46/100\n",
      "313/313 [==============================] - 3s 11ms/step - loss: 0.3223 - accuracy: 0.8649 - val_loss: 0.3668 - val_accuracy: 0.8360\n",
      "Epoch 47/100\n",
      "313/313 [==============================] - 3s 10ms/step - loss: 0.3195 - accuracy: 0.8642 - val_loss: 0.3723 - val_accuracy: 0.8400\n",
      "Epoch 48/100\n",
      "313/313 [==============================] - 3s 11ms/step - loss: 0.3214 - accuracy: 0.8647 - val_loss: 0.3796 - val_accuracy: 0.8360\n",
      "Epoch 49/100\n",
      "313/313 [==============================] - 3s 11ms/step - loss: 0.3137 - accuracy: 0.8664 - val_loss: 0.3797 - val_accuracy: 0.8340\n",
      "Epoch 50/100\n",
      "313/313 [==============================] - 3s 11ms/step - loss: 0.3151 - accuracy: 0.8694 - val_loss: 0.3843 - val_accuracy: 0.8110\n",
      "Epoch 51/100\n",
      "313/313 [==============================] - 3s 11ms/step - loss: 0.3135 - accuracy: 0.8668 - val_loss: 0.3898 - val_accuracy: 0.8180\n",
      "Epoch 52/100\n",
      "313/313 [==============================] - 3s 11ms/step - loss: 0.3100 - accuracy: 0.8682 - val_loss: 0.3847 - val_accuracy: 0.8360\n",
      "Epoch 53/100\n",
      "313/313 [==============================] - 4s 11ms/step - loss: 0.3117 - accuracy: 0.8659 - val_loss: 0.3564 - val_accuracy: 0.8320\n",
      "Epoch 54/100\n",
      "313/313 [==============================] - 3s 10ms/step - loss: 0.3077 - accuracy: 0.8713 - val_loss: 0.3645 - val_accuracy: 0.8320\n",
      "Epoch 55/100\n",
      "313/313 [==============================] - 3s 11ms/step - loss: 0.3053 - accuracy: 0.8697 - val_loss: 0.3846 - val_accuracy: 0.8240\n",
      "Epoch 56/100\n",
      "313/313 [==============================] - 3s 11ms/step - loss: 0.3027 - accuracy: 0.8740 - val_loss: 0.3692 - val_accuracy: 0.8330\n",
      "Epoch 57/100\n",
      "313/313 [==============================] - 3s 11ms/step - loss: 0.3058 - accuracy: 0.8708 - val_loss: 0.3784 - val_accuracy: 0.8280\n",
      "Epoch 58/100\n",
      "313/313 [==============================] - 3s 11ms/step - loss: 0.2980 - accuracy: 0.8761 - val_loss: 0.3790 - val_accuracy: 0.8340\n",
      "Epoch 59/100\n",
      "313/313 [==============================] - 3s 11ms/step - loss: 0.2974 - accuracy: 0.8744 - val_loss: 0.3897 - val_accuracy: 0.8190\n",
      "Epoch 60/100\n",
      "313/313 [==============================] - 3s 11ms/step - loss: 0.3022 - accuracy: 0.8725 - val_loss: 0.3607 - val_accuracy: 0.8360\n",
      "Epoch 61/100\n",
      "313/313 [==============================] - 3s 11ms/step - loss: 0.2928 - accuracy: 0.8786 - val_loss: 0.3691 - val_accuracy: 0.8310\n",
      "Epoch 62/100\n",
      "313/313 [==============================] - 3s 11ms/step - loss: 0.2970 - accuracy: 0.8743 - val_loss: 0.3768 - val_accuracy: 0.8350\n",
      "Epoch 63/100\n",
      "313/313 [==============================] - 3s 10ms/step - loss: 0.2956 - accuracy: 0.8775 - val_loss: 0.3783 - val_accuracy: 0.8260\n",
      "Epoch 64/100\n",
      "313/313 [==============================] - 3s 10ms/step - loss: 0.2898 - accuracy: 0.8798 - val_loss: 0.3701 - val_accuracy: 0.8340\n",
      "Epoch 65/100\n",
      "313/313 [==============================] - 3s 10ms/step - loss: 0.2901 - accuracy: 0.8755 - val_loss: 0.3784 - val_accuracy: 0.8290\n",
      "Epoch 66/100\n",
      "313/313 [==============================] - 3s 10ms/step - loss: 0.2891 - accuracy: 0.8804 - val_loss: 0.4005 - val_accuracy: 0.8290\n",
      "Epoch 67/100\n",
      "313/313 [==============================] - 3s 11ms/step - loss: 0.2870 - accuracy: 0.8784 - val_loss: 0.3832 - val_accuracy: 0.8230\n",
      "Epoch 68/100\n",
      "313/313 [==============================] - 3s 10ms/step - loss: 0.2925 - accuracy: 0.8763 - val_loss: 0.3764 - val_accuracy: 0.8340\n",
      "Epoch 69/100\n",
      "313/313 [==============================] - 3s 10ms/step - loss: 0.2863 - accuracy: 0.8779 - val_loss: 0.3823 - val_accuracy: 0.8260\n",
      "Epoch 70/100\n",
      "313/313 [==============================] - 3s 10ms/step - loss: 0.2845 - accuracy: 0.8817 - val_loss: 0.3881 - val_accuracy: 0.8260\n",
      "Epoch 71/100\n",
      "313/313 [==============================] - 3s 10ms/step - loss: 0.2788 - accuracy: 0.8823 - val_loss: 0.3912 - val_accuracy: 0.8390\n",
      "Epoch 72/100\n",
      "313/313 [==============================] - 3s 10ms/step - loss: 0.2822 - accuracy: 0.8801 - val_loss: 0.3942 - val_accuracy: 0.8390\n",
      "Epoch 73/100\n",
      "313/313 [==============================] - 3s 10ms/step - loss: 0.2747 - accuracy: 0.8850 - val_loss: 0.3986 - val_accuracy: 0.8300\n",
      "Epoch 74/100\n",
      "313/313 [==============================] - 3s 10ms/step - loss: 0.2770 - accuracy: 0.8822 - val_loss: 0.3863 - val_accuracy: 0.8230\n",
      "Epoch 75/100\n",
      "313/313 [==============================] - 3s 10ms/step - loss: 0.2705 - accuracy: 0.8851 - val_loss: 0.4083 - val_accuracy: 0.8280\n",
      "Epoch 76/100\n",
      "313/313 [==============================] - 3s 10ms/step - loss: 0.2775 - accuracy: 0.8837 - val_loss: 0.4062 - val_accuracy: 0.8200\n",
      "Epoch 77/100\n",
      "313/313 [==============================] - 3s 10ms/step - loss: 0.2705 - accuracy: 0.8836 - val_loss: 0.4325 - val_accuracy: 0.8310\n",
      "Epoch 78/100\n",
      "313/313 [==============================] - 3s 10ms/step - loss: 0.2680 - accuracy: 0.8841 - val_loss: 0.4169 - val_accuracy: 0.8250\n",
      "Epoch 79/100\n",
      "313/313 [==============================] - 3s 11ms/step - loss: 0.2615 - accuracy: 0.8889 - val_loss: 0.4073 - val_accuracy: 0.8240\n",
      "Epoch 80/100\n",
      "313/313 [==============================] - 3s 10ms/step - loss: 0.2625 - accuracy: 0.8864 - val_loss: 0.3927 - val_accuracy: 0.8220\n",
      "Epoch 81/100\n",
      "313/313 [==============================] - 3s 11ms/step - loss: 0.2674 - accuracy: 0.8873 - val_loss: 0.3994 - val_accuracy: 0.8270\n",
      "Epoch 82/100\n",
      "313/313 [==============================] - 3s 10ms/step - loss: 0.2688 - accuracy: 0.8871 - val_loss: 0.3962 - val_accuracy: 0.8300\n",
      "Epoch 83/100\n",
      "313/313 [==============================] - 3s 10ms/step - loss: 0.2616 - accuracy: 0.8889 - val_loss: 0.4121 - val_accuracy: 0.8170\n",
      "Epoch 84/100\n",
      "313/313 [==============================] - 3s 11ms/step - loss: 0.2657 - accuracy: 0.8892 - val_loss: 0.4043 - val_accuracy: 0.8220\n",
      "Epoch 85/100\n",
      "313/313 [==============================] - 3s 10ms/step - loss: 0.2564 - accuracy: 0.8885 - val_loss: 0.4438 - val_accuracy: 0.8330\n",
      "Epoch 86/100\n",
      "313/313 [==============================] - 3s 10ms/step - loss: 0.2605 - accuracy: 0.8891 - val_loss: 0.3951 - val_accuracy: 0.8320\n",
      "Epoch 87/100\n",
      "313/313 [==============================] - 3s 10ms/step - loss: 0.2545 - accuracy: 0.8925 - val_loss: 0.4069 - val_accuracy: 0.8300\n",
      "Epoch 88/100\n",
      "313/313 [==============================] - 3s 10ms/step - loss: 0.2593 - accuracy: 0.8950 - val_loss: 0.4176 - val_accuracy: 0.8260\n",
      "Epoch 89/100\n",
      "313/313 [==============================] - 3s 11ms/step - loss: 0.2544 - accuracy: 0.8926 - val_loss: 0.4142 - val_accuracy: 0.8130\n",
      "Epoch 90/100\n",
      "313/313 [==============================] - 3s 10ms/step - loss: 0.2547 - accuracy: 0.8923 - val_loss: 0.4053 - val_accuracy: 0.8230\n",
      "Epoch 91/100\n",
      "313/313 [==============================] - 3s 10ms/step - loss: 0.2504 - accuracy: 0.8953 - val_loss: 0.4254 - val_accuracy: 0.8190\n",
      "Epoch 92/100\n",
      "313/313 [==============================] - 3s 10ms/step - loss: 0.2483 - accuracy: 0.8959 - val_loss: 0.4303 - val_accuracy: 0.8120\n",
      "Epoch 93/100\n",
      "313/313 [==============================] - 3s 10ms/step - loss: 0.2457 - accuracy: 0.8971 - val_loss: 0.4487 - val_accuracy: 0.8160\n",
      "Epoch 94/100\n",
      "313/313 [==============================] - 3s 10ms/step - loss: 0.2465 - accuracy: 0.8976 - val_loss: 0.4539 - val_accuracy: 0.8150\n",
      "Epoch 95/100\n",
      "313/313 [==============================] - 3s 10ms/step - loss: 0.2473 - accuracy: 0.8968 - val_loss: 0.4384 - val_accuracy: 0.8140\n",
      "Epoch 96/100\n",
      "313/313 [==============================] - 3s 10ms/step - loss: 0.2471 - accuracy: 0.8958 - val_loss: 0.4450 - val_accuracy: 0.8190\n",
      "Epoch 97/100\n",
      "313/313 [==============================] - 3s 10ms/step - loss: 0.2477 - accuracy: 0.8959 - val_loss: 0.4258 - val_accuracy: 0.8150\n",
      "Epoch 98/100\n",
      "313/313 [==============================] - 3s 11ms/step - loss: 0.2426 - accuracy: 0.8992 - val_loss: 0.4549 - val_accuracy: 0.8170\n",
      "Epoch 99/100\n",
      "313/313 [==============================] - 3s 10ms/step - loss: 0.2463 - accuracy: 0.8938 - val_loss: 0.4682 - val_accuracy: 0.8270\n",
      "Epoch 100/100\n",
      "313/313 [==============================] - 3s 10ms/step - loss: 0.2427 - accuracy: 0.9020 - val_loss: 0.4457 - val_accuracy: 0.8220\n"
     ]
    }
   ],
   "source": [
    "history=model.fit([inputs_train,questions_train],answers_train,batch_size=32,epochs=100,validation_data=([inputs_test,questions_test],answers_test))"
   ]
  },
  {
   "cell_type": "code",
   "execution_count": 62,
   "id": "df31c4d2",
   "metadata": {},
   "outputs": [],
   "source": [
    "model.save('Q&A-bot.h5')"
   ]
  },
  {
   "cell_type": "code",
   "execution_count": 65,
   "id": "a9f8fef2",
   "metadata": {},
   "outputs": [
    {
     "name": "stdout",
     "output_type": "stream",
     "text": [
      "dict_keys(['loss', 'accuracy', 'val_loss', 'val_accuracy'])\n"
     ]
    },
    {
     "data": {
      "image/png": "[encoded data removed]",
      "text/plain": [
       "<Figure size 432x288 with 1 Axes>"
      ]
     },
     "metadata": {
      "needs_background": "light"
     },
     "output_type": "display_data"
    }
   ],
   "source": [
    "import matplotlib.pyplot as plt\n",
    "%matplotlib inline\n",
    "print(history.history.keys())\n",
    "# summarize history for accuracy\n",
    "plt.plot(history.history['accuracy'])\n",
    "plt.plot(history.history['val_accuracy'])\n",
    "plt.title('model accuracy')\n",
    "plt.ylabel('accuracy')\n",
    "plt.xlabel('epoch')\n",
    "plt.legend(['train', 'test'], loc='upper left')\n",
    "plt.show()"
   ]
  },
  {
   "cell_type": "code",
   "execution_count": 66,
   "id": "4e5e1fb4",
   "metadata": {},
   "outputs": [],
   "source": [
    "#you can predict on new stories and question using the prodoct function and same format\n",
    "#NOTE: you are limited to the words in the vocab of the model\n",
    "pred_results=model.predict(([inputs_test,questions_test]))"
   ]
  },
  {
   "cell_type": "code",
   "execution_count": 67,
   "id": "1277fcc3",
   "metadata": {},
   "outputs": [
    {
     "data": {
      "text/plain": [
       "(1000, 38)"
      ]
     },
     "execution_count": 67,
     "metadata": {},
     "output_type": "execute_result"
    }
   ],
   "source": [
    "pred_results.shape\n"
   ]
  },
  {
   "cell_type": "code",
   "execution_count": 73,
   "id": "ec43ba80",
   "metadata": {},
   "outputs": [
    {
     "data": {
      "text/plain": [
       "'Mary got the milk there . John moved to the bedroom .'"
      ]
     },
     "execution_count": 73,
     "metadata": {},
     "output_type": "execute_result"
    }
   ],
   "source": [
    " ' '.join(test_data[0][0])"
   ]
  },
  {
   "cell_type": "code",
   "execution_count": 74,
   "id": "6b1a4465",
   "metadata": {},
   "outputs": [
    {
     "data": {
      "text/plain": [
       "'Is John in the kitchen ?'"
      ]
     },
     "execution_count": 74,
     "metadata": {},
     "output_type": "execute_result"
    }
   ],
   "source": [
    " ' '.join(test_data[0][1])"
   ]
  },
  {
   "cell_type": "code",
   "execution_count": 75,
   "id": "3548d553",
   "metadata": {},
   "outputs": [
    {
     "data": {
      "text/plain": [
       "'n o'"
      ]
     },
     "execution_count": 75,
     "metadata": {},
     "output_type": "execute_result"
    }
   ],
   "source": [
    " ' '.join(test_data[0][2])"
   ]
  },
  {
   "cell_type": "code",
   "execution_count": 68,
   "id": "51acdeab",
   "metadata": {},
   "outputs": [],
   "source": [
    "max_probability=np.argmax(pred_results[0])"
   ]
  },
  {
   "cell_type": "code",
   "execution_count": 71,
   "id": "d5044394",
   "metadata": {},
   "outputs": [],
   "source": [
    "for key,val in tokenizer.word_index.items():\n",
    "    if val==max_probability:\n",
    "        k=key\n",
    "        "
   ]
  },
  {
   "cell_type": "code",
   "execution_count": 72,
   "id": "f1976e11",
   "metadata": {},
   "outputs": [
    {
     "data": {
      "text/plain": [
       "'no'"
      ]
     },
     "execution_count": 72,
     "metadata": {},
     "output_type": "execute_result"
    }
   ],
   "source": [
    "k"
   ]
  },
  {
   "cell_type": "code",
   "execution_count": 76,
   "id": "3f80125f",
   "metadata": {},
   "outputs": [
    {
     "data": {
      "text/plain": [
       "0.9999858"
      ]
     },
     "execution_count": 76,
     "metadata": {},
     "output_type": "execute_result"
    }
   ],
   "source": [
    "pred_results[0][max_probability]"
   ]
  },
  {
   "cell_type": "code",
   "execution_count": 77,
   "id": "94991bcf",
   "metadata": {},
   "outputs": [
    {
     "data": {
      "text/plain": [
       "['John',\n",
       " 'left',\n",
       " 'the',\n",
       " 'kitchen',\n",
       " '.',\n",
       " 'Sandra',\n",
       " 'dropped',\n",
       " 'the',\n",
       " 'football',\n",
       " 'in',\n",
       " 'the',\n",
       " 'garden',\n",
       " '.']"
      ]
     },
     "execution_count": 77,
     "metadata": {},
     "output_type": "execute_result"
    }
   ],
   "source": [
    "# Note the whitespace of the periods\n",
    "my_story = \"John left the kitchen . Sandra dropped the football in the garden .\"\n",
    "my_story.split()"
   ]
  },
  {
   "cell_type": "code",
   "execution_count": 78,
   "id": "a0f5042d",
   "metadata": {},
   "outputs": [
    {
     "data": {
      "text/plain": [
       "['Is', 'the', 'football', 'in', 'the', 'garden', '?']"
      ]
     },
     "execution_count": 78,
     "metadata": {},
     "output_type": "execute_result"
    }
   ],
   "source": [
    "my_question = \"Is the football in the garden ?\"\n",
    "my_question.split()\n"
   ]
  },
  {
   "cell_type": "code",
   "execution_count": 79,
   "id": "6a212d28",
   "metadata": {},
   "outputs": [],
   "source": [
    "mydata = [(my_story.split(),my_question.split(),'yes')]\n",
    "my_story,my_ques,my_ans = vectorize_stories(mydata)"
   ]
  },
  {
   "cell_type": "code",
   "execution_count": 80,
   "id": "377860b4",
   "metadata": {},
   "outputs": [],
   "source": [
    "pred_results = model.predict(([ my_story, my_ques]))"
   ]
  },
  {
   "cell_type": "code",
   "execution_count": 81,
   "id": "908cb979",
   "metadata": {},
   "outputs": [
    {
     "name": "stdout",
     "output_type": "stream",
     "text": [
      "Predicted answer is:  yes\n",
      "Probability of certainty was:  0.99863905\n"
     ]
    }
   ],
   "source": [
    "max_probability=np.argmax(pred_results[0])\n",
    "\n",
    "for key,val in tokenizer.word_index.items():\n",
    "    if val==max_probability:\n",
    "        k=key\n",
    "        \n",
    "\n",
    "print(\"Predicted answer is: \", k)\n",
    "print(\"Probability of certainty was: \", pred_results[0][max_probability])"
   ]
  },
  {
   "cell_type": "code",
   "execution_count": null,
   "id": "1b68d952",
   "metadata": {},
   "outputs": [],
   "source": []
  }
 ],
 "metadata": {
  "kernelspec": {
   "display_name": "Python 3 (ipykernel)",
   "language": "python",
   "name": "python3"
  },
  "language_info": {
   "codemirror_mode": {
    "name": "ipython",
    "version": 3
   },
   "file_extension": ".py",
   "mimetype": "text/x-python",
   "name": "python",
   "nbconvert_exporter": "python",
   "pygments_lexer": "ipython3",
   "version": "3.7.11"
  }
 },
 "nbformat": 4,
 "nbformat_minor": 5
}
